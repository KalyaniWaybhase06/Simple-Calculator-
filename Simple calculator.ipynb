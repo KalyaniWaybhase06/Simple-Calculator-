{
 "cells": [
  {
   "cell_type": "code",
   "execution_count": 1,
   "id": "f999e2f9",
   "metadata": {},
   "outputs": [
    {
     "name": "stdout",
     "output_type": "stream",
     "text": [
      "A Simple calculator Using a Function\n",
      "1. Addition\n",
      " 2. Subtraction\n",
      " 3. Multiplication\n",
      " 4. Division\n",
      "Enter your choice from 1-4 : 1\n",
      "Enter first number: 22\n",
      "Enter second number: 22\n",
      "44\n"
     ]
    }
   ],
   "source": [
    "# A Simple Calculator Using Function\n",
    "\n",
    "print(\"A Simple calculator Using a Function\")\n",
    "\n",
    "\n",
    "def add(num1, num2):\n",
    "    print(num1 + num2)\n",
    "    \n",
    "def sub(num1, num2):\n",
    "    print(num1 - num2)\n",
    "    \n",
    "def multiply(num1, num2):\n",
    "    print(num1 * num2)\n",
    "    \n",
    "def divide(num1, num2) :\n",
    "    print(num1 / num2)\n",
    "    \n",
    "print(\"1. Addition\\n 2. Subtraction\\n 3. Multiplication\\n 4. Division\")\n",
    "\n",
    "choice = int(input(\"Enter your choice from 1-4 : \"))\n",
    "\n",
    "num1 = int(input(\"Enter first number: \"))\n",
    "num2 = int(input(\"Enter second number: \"))\n",
    "\n",
    "if choice == 1:\n",
    "    print(num1 + num2)\n",
    "    \n",
    "elif choice == 2:\n",
    "    print(num1 - num2)\n",
    "    \n",
    "elif choice == 3:\n",
    "    print(num1 * num2)\n",
    "    \n",
    "elif choice == 4:\n",
    "    print(num1 / num2)\n",
    "    \n",
    "\n",
    "      \n",
    "\n",
    "\n",
    "\n",
    "\n",
    "\n",
    "\n",
    "\n",
    "\n",
    "\n",
    "\n",
    "\n",
    "\n",
    "\n",
    "\n",
    "\n",
    "\n",
    "\n",
    "\n",
    "\n",
    "\n",
    "\n",
    "\n",
    "\n",
    "\n",
    "\n",
    "\n",
    "\n",
    "\n",
    "\n",
    "\n",
    "\n",
    "\n"
   ]
  },
  {
   "cell_type": "markdown",
   "id": "24a91921",
   "metadata": {},
   "source": []
  },
  {
   "cell_type": "code",
   "execution_count": null,
   "id": "8fd50ebd",
   "metadata": {},
   "outputs": [],
   "source": []
  }
 ],
 "metadata": {
  "kernelspec": {
   "display_name": "Python 3 (ipykernel)",
   "language": "python",
   "name": "python3"
  },
  "language_info": {
   "codemirror_mode": {
    "name": "ipython",
    "version": 3
   },
   "file_extension": ".py",
   "mimetype": "text/x-python",
   "name": "python",
   "nbconvert_exporter": "python",
   "pygments_lexer": "ipython3",
   "version": "3.9.13"
  }
 },
 "nbformat": 4,
 "nbformat_minor": 5
}
